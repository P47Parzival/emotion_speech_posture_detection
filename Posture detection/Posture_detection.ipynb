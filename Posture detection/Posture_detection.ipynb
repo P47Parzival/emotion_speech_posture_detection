{
 "cells": [
  {
   "cell_type": "code",
   "execution_count": 7,
   "id": "0239c8af-45e9-43d7-8cd3-c3dc63bbd95a",
   "metadata": {},
   "outputs": [],
   "source": [
    "import os\n",
    "import numpy as np\n",
    "from tqdm import tqdm\n",
    "import joblib\n",
    "from sklearn.model_selection import train_test_split\n",
    "from sklearn.metrics import accuracy_score, classification_report\n",
    "import xgboost as xgb\n",
    "import cv2"
   ]
  },
  {
   "cell_type": "code",
   "execution_count": 8,
   "id": "4d65414f-005d-423c-8b69-c06d421d0bdd",
   "metadata": {},
   "outputs": [],
   "source": [
    "# Path to the dataset\n",
    "DATASET_PATH = 'Silhouettes of human posture/'\n",
    "# Define the classes based on folder names\n",
    "CLASSES = ['bending', 'lying', 'sitting', 'standing']"
   ]
  },
  {
   "cell_type": "code",
   "execution_count": 9,
   "id": "07e46219-caa8-44b3-b2cf-09f754caed97",
   "metadata": {},
   "outputs": [],
   "source": [
    "# --- Feature Extraction Function ---\n",
    "def extract_hu_moments(image_path):\n",
    "    \"\"\"Loads an image, preprocesses it, and extracts Hu Moments.\"\"\"\n",
    "    # Load image in grayscale\n",
    "    image = cv2.imread(image_path, cv2.IMREAD_GRAYSCALE)\n",
    "    if image is None:\n",
    "        return None\n",
    "    \n",
    "    # Resize and threshold to ensure it's a binary silhouette\n",
    "    image = cv2.resize(image, (100, 100))\n",
    "    _, thresh = cv2.threshold(image, 127, 255, cv2.THRESH_BINARY)\n",
    "    \n",
    "    # Calculate moments\n",
    "    moments = cv2.moments(thresh)\n",
    "    \n",
    "    # Calculate Hu Moments\n",
    "    hu_moments = cv2.HuMoments(moments)\n",
    "    \n",
    "    # Log transform to make them more scale-invariant\n",
    "    # Add a small epsilon to avoid log(0)\n",
    "    hu_moments = -1 * np.sign(hu_moments) * np.log10(np.abs(hu_moments) + 1e-7)\n",
    "    \n",
    "    return hu_moments.flatten()"
   ]
  },
  {
   "cell_type": "code",
   "execution_count": 10,
   "id": "67d7bb2a-7f9b-4881-ba97-b3f93ad30959",
   "metadata": {},
   "outputs": [
    {
     "name": "stdout",
     "output_type": "stream",
     "text": [
      "Extracting features from the dataset...\n"
     ]
    },
    {
     "name": "stderr",
     "output_type": "stream",
     "text": [
      "Processing bending: 100%|██████████████████████████████████████████████████████████| 1200/1200 [00:18<00:00, 64.92it/s]\n",
      "Processing lying: 100%|████████████████████████████████████████████████████████████| 1200/1200 [00:16<00:00, 70.64it/s]\n",
      "Processing sitting: 100%|██████████████████████████████████████████████████████████| 1200/1200 [00:16<00:00, 72.07it/s]\n",
      "Processing standing: 100%|█████████████████████████████████████████████████████████| 1200/1200 [00:16<00:00, 73.66it/s]\n"
     ]
    }
   ],
   "source": [
    "# --- Load Data and Extract Features ---\n",
    "features = []\n",
    "labels = []\n",
    "\n",
    "print(\"Extracting features from the dataset...\")\n",
    "for class_idx, class_name in enumerate(CLASSES):\n",
    "    class_path = os.path.join(DATASET_PATH, class_name)\n",
    "    for image_name in tqdm(os.listdir(class_path), desc=f\"Processing {class_name}\"):\n",
    "        image_path = os.path.join(class_path, image_name)\n",
    "        \n",
    "        hu_features = extract_hu_moments(image_path)\n",
    "        \n",
    "        if hu_features is not None:\n",
    "            features.append(hu_features)\n",
    "            labels.append(class_idx)\n"
   ]
  },
  {
   "cell_type": "code",
   "execution_count": 12,
   "id": "6847e5e8-32b6-477d-86ba-9dfa30f1d6fd",
   "metadata": {},
   "outputs": [
    {
     "name": "stdout",
     "output_type": "stream",
     "text": [
      "\n",
      "Feature extraction complete!\n",
      "Data shapes: X=(4800, 7), y=(4800,)\n"
     ]
    }
   ],
   "source": [
    "# Convert to numpy arrays\n",
    "X = np.array(features)\n",
    "y = np.array(labels)\n",
    "\n",
    "print(f\"\\nFeature extraction complete!\")\n",
    "print(f\"Data shapes: X={X.shape}, y={y.shape}\")"
   ]
  },
  {
   "cell_type": "code",
   "execution_count": 13,
   "id": "7c427a7e-9c45-4466-af23-ee25325cd606",
   "metadata": {},
   "outputs": [],
   "source": [
    "# Split data into training and testing sets\n",
    "X_train, X_test, y_train, y_test = train_test_split(\n",
    "    X, y, test_size=0.2, random_state=42, stratify=y\n",
    ")"
   ]
  },
  {
   "cell_type": "code",
   "execution_count": 14,
   "id": "095f5197-0961-4ef5-8764-bb6fcde138d8",
   "metadata": {},
   "outputs": [
    {
     "name": "stdout",
     "output_type": "stream",
     "text": [
      "Training the XGBoost model...\n"
     ]
    },
    {
     "name": "stderr",
     "output_type": "stream",
     "text": [
      "C:\\Users\\dhruv\\anaconda3\\Lib\\site-packages\\xgboost\\training.py:183: UserWarning: [12:09:00] WARNING: C:\\actions-runner\\_work\\xgboost\\xgboost\\src\\learner.cc:738: \n",
      "Parameters: { \"use_label_encoder\", \"verbose\" } are not used.\n",
      "\n",
      "  bst.update(dtrain, iteration=i, fobj=obj)\n"
     ]
    },
    {
     "name": "stdout",
     "output_type": "stream",
     "text": [
      "Model training complete! 🚀\n"
     ]
    }
   ],
   "source": [
    "# Using 'multi:softmax' for multi-class classification\n",
    "print(\"Training the XGBoost model...\")\n",
    "xgb_model = xgb.XGBClassifier(\n",
    "    objective='multi:softmax',\n",
    "    num_class=len(CLASSES),\n",
    "    eval_metric='mlogloss',\n",
    "    use_label_encoder=False,\n",
    "    random_state=42,\n",
    "    verbose=True\n",
    ")\n",
    "xgb_model.fit(X_train, y_train)\n",
    "\n",
    "print(\"Model training complete! 🚀\")"
   ]
  },
  {
   "cell_type": "code",
   "execution_count": 15,
   "id": "51d15fab-240d-46b8-a6f2-6adf3618cd49",
   "metadata": {},
   "outputs": [
    {
     "name": "stdout",
     "output_type": "stream",
     "text": [
      "\n",
      "Model Accuracy: 59.69%\n",
      "\n",
      "Classification Report:\n",
      "              precision    recall  f1-score   support\n",
      "\n",
      "     bending       0.59      0.56      0.58       240\n",
      "       lying       0.60      0.53      0.56       240\n",
      "     sitting       0.61      0.63      0.62       240\n",
      "    standing       0.59      0.66      0.62       240\n",
      "\n",
      "    accuracy                           0.60       960\n",
      "   macro avg       0.60      0.60      0.60       960\n",
      "weighted avg       0.60      0.60      0.60       960\n",
      "\n"
     ]
    }
   ],
   "source": [
    "# Evaluate the model\n",
    "y_pred = xgb_model.predict(X_test)\n",
    "accuracy = accuracy_score(y_test, y_pred)\n",
    "print(f\"\\nModel Accuracy: {accuracy * 100:.2f}%\")\n",
    "print(\"\\nClassification Report:\")\n",
    "print(classification_report(y_test, y_pred, target_names=CLASSES))"
   ]
  },
  {
   "cell_type": "code",
   "execution_count": 16,
   "id": "73d65da1-0210-4386-b94e-ea9afbb4c2d1",
   "metadata": {},
   "outputs": [
    {
     "name": "stdout",
     "output_type": "stream",
     "text": [
      "Model saved as 'posture_model.pkl'\n"
     ]
    }
   ],
   "source": [
    "# Save the model to disk\n",
    "joblib.dump(xgb_model, 'posture_model.pkl')\n",
    "\n",
    "print(\"Model saved as 'posture_model.pkl'\")"
   ]
  },
  {
   "cell_type": "code",
   "execution_count": null,
   "id": "ca87e908-a851-49da-a540-8a45108b10a2",
   "metadata": {},
   "outputs": [],
   "source": []
  }
 ],
 "metadata": {
  "kernelspec": {
   "display_name": "Python [conda env:base] *",
   "language": "python",
   "name": "conda-base-py"
  },
  "language_info": {
   "codemirror_mode": {
    "name": "ipython",
    "version": 3
   },
   "file_extension": ".py",
   "mimetype": "text/x-python",
   "name": "python",
   "nbconvert_exporter": "python",
   "pygments_lexer": "ipython3",
   "version": "3.12.7"
  }
 },
 "nbformat": 4,
 "nbformat_minor": 5
}
